{
  "nbformat": 4,
  "nbformat_minor": 0,
  "metadata": {
    "colab": {
      "name": "Github_Topic_Scraping_Func.ipynb",
      "provenance": [],
      "collapsed_sections": []
    },
    "kernelspec": {
      "name": "python3",
      "display_name": "Python 3"
    },
    "language_info": {
      "name": "python"
    }
  },
  "cells": [
    {
      "cell_type": "markdown",
      "source": [
        "Python"
      ],
      "metadata": {
        "id": "Wu_eiXbDkJag"
      }
    },
    {
      "cell_type": "code",
      "execution_count": null,
      "metadata": {
        "id": "YqOFCQ-3Ps4L"
      },
      "outputs": [],
      "source": [
        "import requests\n",
        "from bs4 import BeautifulSoup\n",
        "import pandas as pd\n",
        "\n",
        "def func(target_url):\n",
        "  u=target_url.split('/')\n",
        "  url_lst=[]\n",
        "  #Iterating using for loop to define URL strings and to append them in the list\n",
        "  for number in range(1,8):\n",
        "    str=f'https://github.com/topics/{u[-1]}?page={number}'\n",
        "    url_lst.append(str)\n",
        "\n",
        "  base_link='https://github.com'\n",
        "  all_posts_list=[]\n",
        "  SrNo=1\n",
        "  #Iterating through list of URLs to get items of 1 page at a time \n",
        "  for item in url_lst:\n",
        "      all_raw_data = requests.get(item).text\n",
        "      all_soup = BeautifulSoup(all_raw_data,'lxml')\n",
        "      #all_divs is variable for storing properties of all divs on one page\n",
        "      all_divs = all_soup.find_all('article' ,class_='border rounded color-shadow-small color-bg-subtle my-4')\n",
        "      #Iterating through all_divs for getting data of each div \n",
        "      for data in all_divs:\n",
        "        #if the Serial No value is more than 200, all loops are terminated\n",
        "        if(SrNo>200):\n",
        "          continue\n",
        "        else:\n",
        "          repo_name=data.find('a',class_='text-bold wb-break-word').text.strip()\n",
        "          \n",
        "          repo_name_and_user_name_str =''\n",
        "          repo_name_and_user_name = data.find('h3',class_='f3 color-fg-muted text-normal lh-condensed').text.strip()\n",
        "          #for getting user_name value, the data from .find() method is stored in a string\n",
        "          repo_name_and_user_name_str += repo_name_and_user_name\n",
        "          #The string is splitted by elements which have single_Spaces in them\n",
        "          splitted_str = repo_name_and_user_name_str.split(' ')\n",
        "          #the 0th element is the user_name\n",
        "          user_name = splitted_str[0]\n",
        "          user_name = user_name.strip()\n",
        "          \n",
        "          stars=data.find('span',class_='Counter js-social-count').text.strip()\n",
        "          #for getting URL, we define base_link='https://github.com' and get another list from .find() method from web\n",
        "          #After adding both URLs we get the full repository URL \n",
        "          added_link=data.find('a',class_='text-bold wb-break-word')['href'].strip()\n",
        "          full_link=base_link+added_link\n",
        "          \n",
        "          all_posts_dict={\n",
        "            'Sr No':SrNo,\n",
        "            'Repository Name':repo_name,\n",
        "            'User Name':user_name,\n",
        "            'Stars':stars,\n",
        "            'URL':full_link\n",
        "          }\n",
        "          all_posts_list.append(all_posts_dict)\n",
        "          SrNo+=1\n",
        "  tabular_data = pd.DataFrame(all_posts_list)\n",
        "  excel=tabular_data.to_excel(f'Github_Posts_{u[-1]}.xlsx')\n",
        "  return excel \n",
        "  \n",
        "func('https://github.com/topics/python')\n",
        " "
      ]
    },
    {
      "cell_type": "markdown",
      "source": [
        "Data Visualization"
      ],
      "metadata": {
        "id": "GOnp_ooRj0kX"
      }
    },
    {
      "cell_type": "code",
      "source": [
        "func('https://github.com/topics/data-visualization')"
      ],
      "metadata": {
        "id": "lbPg_41fj5Xj"
      },
      "execution_count": null,
      "outputs": []
    },
    {
      "cell_type": "markdown",
      "source": [
        "react"
      ],
      "metadata": {
        "id": "InT0OPt6kWEu"
      }
    },
    {
      "cell_type": "code",
      "source": [
        "func('https://github.com/topics/react')"
      ],
      "metadata": {
        "id": "KojO0qwRlSrq"
      },
      "execution_count": null,
      "outputs": []
    },
    {
      "cell_type": "markdown",
      "source": [
        "javascript"
      ],
      "metadata": {
        "id": "ITL1UXvckZaf"
      }
    },
    {
      "cell_type": "code",
      "source": [
        "func('https://github.com/topics/javascript')"
      ],
      "metadata": {
        "id": "tYxR-qLwlUi_"
      },
      "execution_count": null,
      "outputs": []
    },
    {
      "cell_type": "markdown",
      "source": [
        "flask"
      ],
      "metadata": {
        "id": "iotYH90HkaSX"
      }
    },
    {
      "cell_type": "code",
      "source": [
        "func('https://github.com/topics/flask')"
      ],
      "metadata": {
        "id": "7AgGdfDFlVxX"
      },
      "execution_count": null,
      "outputs": []
    },
    {
      "cell_type": "markdown",
      "source": [
        "graphql"
      ],
      "metadata": {
        "id": "6_1e-6TzkaVL"
      }
    },
    {
      "cell_type": "code",
      "source": [
        "func('https://github.com/topics/graphql')"
      ],
      "metadata": {
        "id": "R4lDfVEklWVc"
      },
      "execution_count": null,
      "outputs": []
    },
    {
      "cell_type": "markdown",
      "source": [
        "java"
      ],
      "metadata": {
        "id": "o-zYwDdPkaZf"
      }
    },
    {
      "cell_type": "code",
      "source": [
        "func('https://github.com/topics/java')"
      ],
      "metadata": {
        "id": "ycryyBUslXP_"
      },
      "execution_count": null,
      "outputs": []
    },
    {
      "cell_type": "markdown",
      "source": [
        "JSON"
      ],
      "metadata": {
        "id": "7Ne8SG0bkan1"
      }
    },
    {
      "cell_type": "code",
      "source": [
        "func('https://github.com/topics/json')"
      ],
      "metadata": {
        "id": "l5ANx6Yll1ss"
      },
      "execution_count": null,
      "outputs": []
    },
    {
      "cell_type": "markdown",
      "source": [
        "Machine Learning"
      ],
      "metadata": {
        "id": "J-DvQi4lka8_"
      }
    },
    {
      "cell_type": "code",
      "source": [
        "func('https://github.com/topics/machine-learning')"
      ],
      "metadata": {
        "id": "wiEQtn8jlgjn"
      },
      "execution_count": null,
      "outputs": []
    },
    {
      "cell_type": "markdown",
      "source": [
        "PostgreSQL"
      ],
      "metadata": {
        "id": "5InFXOqQkbeh"
      }
    },
    {
      "cell_type": "code",
      "source": [
        " func('https://github.com/topics/postgresql')"
      ],
      "metadata": {
        "id": "UUWBDUD_iYHK"
      },
      "execution_count": null,
      "outputs": []
    },
    {
      "cell_type": "markdown",
      "source": [
        "*For Any Topic on Github*"
      ],
      "metadata": {
        "id": "_gs4wSDClEJG"
      }
    },
    {
      "cell_type": "code",
      "source": [
        "#THE BELOW CODE IS FOR GETTING DATA OF ANY GITHUB TOPIC BY PROVIDING URL OF TOPIC'S GITHUB PAGE\n",
        "target_url=input('Enter URL of topic you want data of:')\n",
        "func(target_url)"
      ],
      "metadata": {
        "id": "TEk_HXvSlNYW"
      },
      "execution_count": null,
      "outputs": []
    }
  ]
}